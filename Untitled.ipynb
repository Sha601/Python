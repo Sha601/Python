{
 "cells": [
  {
   "cell_type": "code",
   "execution_count": 13,
   "id": "01d6d60b",
   "metadata": {},
   "outputs": [
    {
     "ename": "SyntaxError",
     "evalue": "'break' outside loop (3130422090.py, line 50)",
     "output_type": "error",
     "traceback": [
      "\u001b[1;36m  File \u001b[1;32m\"C:\\Users\\pg23pca135\\AppData\\Local\\Temp\\ipykernel_4104\\3130422090.py\"\u001b[1;36m, line \u001b[1;32m50\u001b[0m\n\u001b[1;33m    break\u001b[0m\n\u001b[1;37m    ^\u001b[0m\n\u001b[1;31mSyntaxError\u001b[0m\u001b[1;31m:\u001b[0m 'break' outside loop\n"
     ]
    }
   ],
   "source": [
    "def fn():\n",
    "    print(\"string functions\")\n",
    "    print(\"1.capitalize\")\n",
    "    print(\"2.title\")\n",
    "    print(\"3.upper\")\n",
    "    print(\"4.islower\")\n",
    "    print(\"5.swapcase\")\n",
    "    print(\"6.strip\")\n",
    "    print(\"7.isalpha\")\n",
    "    print(\"8.length\")\n",
    "    print(\"9.isalnum\")\n",
    "    print(\"10.isdigit\")\n",
    "    s=input(\"enter the string\")\n",
    "    n=int(input(\"select an option\"))\n",
    "    while(True):\n",
    "        if n==1:\n",
    "            print(\"Function:capitalize\")\n",
    "            print(s.capitalize())\n",
    "        elif n==2:\n",
    "            print(\"function:title\")\n",
    "            print(s.title())\n",
    "        elif n==3:\n",
    "            print(\"function:upper\")\n",
    "            print(s.upper())\n",
    "        elif n==4:\n",
    "            print(\"function:islower\")\n",
    "            print(s.islower())\n",
    "        elif n==5:\n",
    "            print(\"function:swapcase\")\n",
    "            print(s.swapcase())\n",
    "        elif n==6:\n",
    "            print(\"function:strip\")\n",
    "            print(s.strip())\n",
    "        elif n==7:\n",
    "            print(\"function:isalpha\")\n",
    "            print(s.isalpha())\n",
    "        elif n==8:\n",
    "            print(\"function:length\")\n",
    "            print(s.length())\n",
    "        elif n==9:\n",
    "            print(\"function:isalnum\")\n",
    "            print(s.isalnum())\n",
    "        elif n==10:\n",
    "            print(\"funtion:isdigit\")\n",
    "            print(s.isdigit())\n",
    "        else:\n",
    "            print(\"enter number between 1 to 10\")\n",
    "        r=input(\"do you want to continue\")\n",
    "    if r!=\"yes\":\n",
    "         break\n",
    "    fn()"
   ]
  },
  {
   "cell_type": "code",
   "execution_count": null,
   "id": "3ab50dd9",
   "metadata": {},
   "outputs": [],
   "source": []
  },
  {
   "cell_type": "code",
   "execution_count": null,
   "id": "38cdbbaf",
   "metadata": {},
   "outputs": [],
   "source": []
  },
  {
   "cell_type": "code",
   "execution_count": null,
   "id": "4712d865",
   "metadata": {},
   "outputs": [],
   "source": []
  },
  {
   "cell_type": "code",
   "execution_count": null,
   "id": "4bf58087",
   "metadata": {},
   "outputs": [],
   "source": []
  },
  {
   "cell_type": "code",
   "execution_count": null,
   "id": "316e8f10",
   "metadata": {},
   "outputs": [],
   "source": []
  }
 ],
 "metadata": {
  "kernelspec": {
   "display_name": "Python 3 (ipykernel)",
   "language": "python",
   "name": "python3"
  },
  "language_info": {
   "codemirror_mode": {
    "name": "ipython",
    "version": 3
   },
   "file_extension": ".py",
   "mimetype": "text/x-python",
   "name": "python",
   "nbconvert_exporter": "python",
   "pygments_lexer": "ipython3",
   "version": "3.9.13"
  }
 },
 "nbformat": 4,
 "nbformat_minor": 5
}
